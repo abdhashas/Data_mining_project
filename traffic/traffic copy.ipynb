{
 "cells": [
  {
   "cell_type": "code",
   "execution_count": null,
   "metadata": {},
   "outputs": [],
   "source": [
    "import pandas as pd"
   ]
  },
  {
   "cell_type": "code",
   "execution_count": null,
   "metadata": {},
   "outputs": [],
   "source": [
    "trafficDf1 = pd.read_csv('traffic-crashes.csv')\n",
    "trafficDf1"
   ]
  },
  {
   "cell_type": "code",
   "execution_count": null,
   "metadata": {},
   "outputs": [],
   "source": [
    "trafficDf1.describe()"
   ]
  },
  {
   "cell_type": "code",
   "execution_count": null,
   "metadata": {},
   "outputs": [],
   "source": [
    "trafficDf1.dtypes"
   ]
  },
  {
   "cell_type": "code",
   "execution_count": null,
   "metadata": {},
   "outputs": [],
   "source": [
    "trafficDf1.nunique()"
   ]
  },
  {
   "cell_type": "code",
   "execution_count": null,
   "metadata": {},
   "outputs": [],
   "source": [
    "trafficDf1.isnull().sum()"
   ]
  },
  {
   "cell_type": "code",
   "execution_count": null,
   "metadata": {},
   "outputs": [],
   "source": [
    "columns_to_drop =['CRASH_DATE_EST_I','LANE_CNT','PHOTOS_TAKEN_I','STATEMENTS_TAKEN_I','WORK_ZONE_TYPE','WORKERS_PRESENT_I','INJURIES_FATAL','INJURIES_INCAPACITATING','INJURIES_NON_INCAPACITATING','INJURIES_REPORTED_NOT_EVIDENT','INJURIES_NO_INDICATION','INJURIES_UNKNOWN','LATITUDE','LONGITUDE','LOCATION','INJURIES_FATAL','INJURIES_INCAPACITATING','INJURIES_NON_INCAPACITATING','INJURIES_REPORTED_NOT_EVIDENT','INJURIES_NO_INDICATION','INJURIES_UNKNOWN']\n",
    "trafficDf1.drop(columns_to_drop,axis=1,inplace=True)\n",
    "trafficDf1"
   ]
  },
  {
   "cell_type": "markdown",
   "metadata": {},
   "source": [
    "# D, CZ"
   ]
  },
  {
   "cell_type": "code",
   "execution_count": null,
   "metadata": {},
   "outputs": [],
   "source": [
    "dCzRows1 = trafficDf1[(trafficDf1['DOORING_I']=='Y') & (trafficDf1['WORK_ZONE_I']=='Y')]\n",
    "dCzRows1"
   ]
  },
  {
   "cell_type": "code",
   "execution_count": null,
   "metadata": {},
   "outputs": [],
   "source": [
    "dCzRows2 = trafficDf1[(trafficDf1['DOORING_I']=='N') & (trafficDf1['WORK_ZONE_I']=='N')]\n",
    "dCzRows2"
   ]
  },
  {
   "cell_type": "code",
   "execution_count": null,
   "metadata": {},
   "outputs": [],
   "source": [
    "# DnCZ, D, CZ\n",
    "dCzRows1['DOORING_I'] = dCzRows1['DOORING_I'].replace('Y','DnCZ')\n",
    "dCzRows1['WORK_ZONE_I'] = dCzRows1['WORK_ZONE_I'].replace('Y','DnCZ')\n",
    "dCzRows1"
   ]
  },
  {
   "cell_type": "code",
   "execution_count": null,
   "metadata": {},
   "outputs": [],
   "source": [
    "trafficDf1['DOORING_I'] = trafficDf1['DOORING_I'].replace('Y','D')\n",
    "trafficDf1['WORK_ZONE_I'] = trafficDf1['WORK_ZONE_I'].replace('Y','CZ')"
   ]
  },
  {
   "cell_type": "code",
   "execution_count": null,
   "metadata": {},
   "outputs": [],
   "source": [
    "\n",
    "\n",
    "# Create a new column 'Combined' that combines the values from columns 'A', 'B', and 'C'\n",
    "trafficDf1['Combined'] = trafficDf1['DOORING_I'].fillna(trafficDf1['WORK_ZONE_I'])\n",
    "trafficDf1['Combined'].fillna(trafficDf1['DOORING_I'])\n",
    "trafficDf1['Combined'].value_counts()"
   ]
  },
  {
   "cell_type": "code",
   "execution_count": null,
   "metadata": {},
   "outputs": [],
   "source": [
    "# 'DOORING_I','WORK_ZONE_I',\n",
    "columns_to_drop =['DOORING_I','WORK_ZONE_I',]\n",
    "trafficDf1.drop(columns_to_drop,axis=1,inplace=True)\n",
    "trafficDf1"
   ]
  },
  {
   "cell_type": "code",
   "execution_count": null,
   "metadata": {},
   "outputs": [],
   "source": [
    "columns_to_drop =['INTERSECTION_RELATED_I','NOT_RIGHT_OF_WAY_I','HIT_AND_RUN_I']\n",
    "trafficDf1.drop(columns_to_drop,axis=1,inplace=True)\n",
    "trafficDf1"
   ]
  },
  {
   "cell_type": "code",
   "execution_count": null,
   "metadata": {},
   "outputs": [],
   "source": [
    "trafficDf1['MOST_SEVERE_INJURY'].value_counts()"
   ]
  },
  {
   "cell_type": "code",
   "execution_count": null,
   "metadata": {},
   "outputs": [],
   "source": [
    "df_cat = trafficDf1.select_dtypes(include=['object'])\n",
    "df_cat.columns"
   ]
  },
  {
   "cell_type": "code",
   "execution_count": null,
   "metadata": {},
   "outputs": [],
   "source": [
    "types = {col: 'category' for col in df_cat} # Always try to use comperhenstions for efficiency and the ease of syntax\n",
    "df_cat = df_cat.astype(types)\n",
    "df_cat.dtypes"
   ]
  },
  {
   "cell_type": "code",
   "execution_count": null,
   "metadata": {},
   "outputs": [],
   "source": [
    "\n"
   ]
  },
  {
   "cell_type": "code",
   "execution_count": null,
   "metadata": {},
   "outputs": [],
   "source": [
    "# columns_to_drop =['CRASH_UNIT_ID','CRASH_RECORD_ID','UNIT_NO','VEHICLE_ID',\n",
    "#                   'CMRC_VEH_I','MAKE','MODEL','LIC_PLATE_STATE','VEHICLE_YEAR',\n",
    "#                   'VEHICLE_USE','TRAVEL_DIRECTION','TOWED_I','TOWED_TO','TOWED_BY',\n",
    "#                   'FIRE_I','OCCUPANT_CNT']\n",
    "# trafficDf1.drop(columns_to_drop,axis=1,inplace=True)"
   ]
  },
  {
   "cell_type": "code",
   "execution_count": null,
   "metadata": {},
   "outputs": [],
   "source": [
    "row = trafficDf1[(trafficDf1['INTERSECTION_RELATED_I']=='Y') & (trafficDf1['NOT_RIGHT_OF_WAY_I']=='Y') & (trafficDf1['HIT_AND_RUN_I']=='Y')]\n",
    "row"
   ]
  },
  {
   "cell_type": "code",
   "execution_count": null,
   "metadata": {},
   "outputs": [],
   "source": [
    "row1 = trafficDf1[(trafficDf1['INTERSECTION_RELATED_I']=='N') & (trafficDf1['NOT_RIGHT_OF_WAY_I']=='N') & (trafficDf1['HIT_AND_RUN_I']=='N')]\n",
    "row1"
   ]
  },
  {
   "cell_type": "code",
   "execution_count": null,
   "metadata": {},
   "outputs": [],
   "source": [
    "trafficDf1['INTERSECTION_RELATED_I'].value_counts()"
   ]
  },
  {
   "cell_type": "code",
   "execution_count": null,
   "metadata": {},
   "outputs": [],
   "source": [
    "trafficDf1['INTERSECTION_RELATED_I'].isnull().sum()"
   ]
  },
  {
   "cell_type": "code",
   "execution_count": null,
   "metadata": {},
   "outputs": [],
   "source": [
    "trafficDf1['NOT_RIGHT_OF_WAY_I'].value_counts()"
   ]
  },
  {
   "cell_type": "code",
   "execution_count": null,
   "metadata": {},
   "outputs": [],
   "source": [
    "trafficDf1['NOT_RIGHT_OF_WAY_I'].isnull().sum()"
   ]
  },
  {
   "cell_type": "code",
   "execution_count": null,
   "metadata": {},
   "outputs": [],
   "source": [
    "trafficDf1['HIT_AND_RUN_I'].value_counts()"
   ]
  },
  {
   "cell_type": "code",
   "execution_count": null,
   "metadata": {},
   "outputs": [],
   "source": [
    "trafficDf1['HIT_AND_RUN_I'].isnull().sum()"
   ]
  },
  {
   "cell_type": "code",
   "execution_count": null,
   "metadata": {},
   "outputs": [],
   "source": [
    "# trafficDf1['INTERSECTION_RELATED_I'] = trafficDf1['INTERSECTION_RELATED_I'].replace('Y','IR')\n",
    "# trafficDf1['INTERSECTION_RELATED_I']\n",
    "# trafficDf1['NOT_RIGHT_OF_WAY_I'] = trafficDf1['NOT_RIGHT_OF_WAY_I'].replace('Y','NROW')\n",
    "# trafficDf1['NOT_RIGHT_OF_WAY_I']\n",
    "# trafficDf1['HIT_AND_RUN_I'] = trafficDf1['HIT_AND_RUN_I'].replace('Y','HNR')\n",
    "# trafficDf1['HIT_AND_RUN_I']"
   ]
  },
  {
   "cell_type": "code",
   "execution_count": null,
   "metadata": {},
   "outputs": [],
   "source": [
    "crashDate1 = trafficDf1[['CRASH_DATE_EST_I','CRASH_DATE','DATE_POLICE_NOTIFIED']].copy()\n",
    "crashDate1"
   ]
  },
  {
   "cell_type": "code",
   "execution_count": null,
   "metadata": {},
   "outputs": [],
   "source": [
    "afterDays = crashDate1.loc[crashDate1['CRASH_DATE_EST_I'] == 'Y', ['CRASH_DATE', 'DATE_POLICE_NOTIFIED']].copy()\n",
    "afterDays"
   ]
  },
  {
   "cell_type": "code",
   "execution_count": null,
   "metadata": {},
   "outputs": [],
   "source": [
    "afterDays['CRASH_DATE'] = pd.to_datetime(afterDays['CRASH_DATE'], format='%m/%d/%Y %I:%M:%S %p')\n",
    "afterDays['DATE_POLICE_NOTIFIED'] = pd.to_datetime(afterDays['DATE_POLICE_NOTIFIED'], format='%m/%d/%Y %I:%M:%S %p')\n",
    "\n",
    "# Calculate the difference\n",
    "afterDays['difference'] = afterDays['DATE_POLICE_NOTIFIED'] - afterDays['CRASH_DATE']\n",
    "\n",
    "afterDays"
   ]
  },
  {
   "cell_type": "code",
   "execution_count": null,
   "metadata": {},
   "outputs": [],
   "source": [
    "afterDays.dtypes"
   ]
  },
  {
   "cell_type": "code",
   "execution_count": null,
   "metadata": {},
   "outputs": [],
   "source": [
    "afterDays = afterDays.astype({'CRASH_DATE': 'object', 'DATE_POLICE_NOTIFIED': 'object', 'difference': 'object'})"
   ]
  },
  {
   "cell_type": "code",
   "execution_count": null,
   "metadata": {},
   "outputs": [],
   "source": [
    "afterDays[afterDays['difference']=='P0DT0H0M0S']\n"
   ]
  },
  {
   "cell_type": "code",
   "execution_count": null,
   "metadata": {},
   "outputs": [],
   "source": [
    "afterDays2 = crashDate1.loc[crashDate1['CRASH_DATE_EST_I'] == 'N', ['CRASH_DATE', 'DATE_POLICE_NOTIFIED']].copy()\n",
    "afterDays2"
   ]
  },
  {
   "cell_type": "code",
   "execution_count": null,
   "metadata": {},
   "outputs": [],
   "source": [
    "afterDays2['CRASH_DATE'] = pd.to_datetime(afterDays2['CRASH_DATE'], format='%m/%d/%Y %I:%M:%S %p')\n",
    "afterDays2['DATE_POLICE_NOTIFIED'] = pd.to_datetime(afterDays2['DATE_POLICE_NOTIFIED'], format='%m/%d/%Y %I:%M:%S %p')\n",
    "\n",
    "# Calculate the difference\n",
    "afterDays2['difference'] = afterDays2['DATE_POLICE_NOTIFIED'] - afterDays2['CRASH_DATE']\n",
    "\n",
    "afterDays2"
   ]
  },
  {
   "cell_type": "code",
   "execution_count": null,
   "metadata": {},
   "outputs": [],
   "source": []
  }
 ],
 "metadata": {
  "kernelspec": {
   "display_name": "base",
   "language": "python",
   "name": "python3"
  },
  "language_info": {
   "codemirror_mode": {
    "name": "ipython",
    "version": 3
   },
   "file_extension": ".py",
   "mimetype": "text/x-python",
   "name": "python",
   "nbconvert_exporter": "python",
   "pygments_lexer": "ipython3",
   "version": "3.10.9"
  }
 },
 "nbformat": 4,
 "nbformat_minor": 2
}
